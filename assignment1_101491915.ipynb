{
 "cells": [
  {
   "metadata": {
    "collapsed": true,
    "ExecuteTime": {
     "end_time": "2025-02-05T23:00:39.738515Z",
     "start_time": "2025-02-05T23:00:37.075645Z"
    }
   },
   "cell_type": "code",
   "source": [
    "\"\"\"Author: Regina Slonimsky\n",
    "Assignment 1\"\"\"\n",
    "\n",
    "gym_member = \"Alex Alliton\" #string\n",
    "preferred_weight_kg = 20.5  #float\n",
    "highest_reps = 25    #int\n",
    "membership_active = True #boolean\n",
    "\n",
    "#Dictonary containing names of friends as keys, the values are tuples representing minutes of each workout\n",
    "workout_stats = {\n",
    "    \"Alex\" : (30, 45, 20 ),\n",
    "    \"Jamie\" : (60, 30, 45 ),\n",
    "    \"Taylor\" : (40, 20, 15 ),\n",
    "}\n",
    "\n",
    "new_pairs = []\n",
    "\n",
    "\n",
    "for friend, mins in workout_stats.items():\n",
    "    total_mins = sum(mins)\n",
    "    new_pairs.append ((f\"{friend}_total\", total_mins))\n",
    "\n",
    "    if total_mins >= 120:\n",
    "        print(f\"Great job staying active, {friend}!\")\n",
    "\n",
    "workout_stats.update(new_pairs)\n",
    "\n",
    "#2d list that extracts workout mins from the dictionary\n",
    "workout_list = [list(workout_stats[friend]) for friend in workout_stats if not friend.endswith(\"_total\")]\n",
    "\n",
    "\n",
    "#slice the workout list to extract mins for yoga and running\n",
    "yoga_running_mins = [mins[:2] for mins in workout_list]\n",
    "print(\"Yoga and running minutes for all friends is:\", yoga_running_mins)\n",
    "\n",
    "#slice workout list to extract weightlifting mins for last 2 friends\n",
    "weightlifting_mins = [mins[2] for mins in workout_list[1:]]\n",
    "print(\"Weightlifting minutes for last 2 friends is:\", weightlifting_mins)\n",
    "\n",
    "#check of your name is in directory\n",
    "friends_name = input(\"Enter your friend's name: \").upper()\n",
    "\n",
    "if friends_name not in map(str.upper, workout_stats.keys()):\n",
    "    print(f\"Friend {friends_name} not found in records.\")\n",
    "else:\n",
    "    print(f\"Friend {friends_name} found in records.\")\n",
    "\n",
    "highest_total = (\"\", 0)\n",
    "lowest_total = (\"\", float('inf'))\n",
    "\n",
    "# Loop to determine the highest and lowest total minutes\n",
    "for friend, mins in workout_stats.items():\n",
    "    if \"_total\" in friend:\n",
    "        if mins > highest_total[1]:\n",
    "            highest_total = (friend, mins)\n",
    "        if mins < lowest_total[1]:\n",
    "            lowest_total = (friend, mins)\n",
    "\n",
    "print(f\"The friend with the highest total workout minutes is: {highest_total[0].replace('_total', '')} with {highest_total[1]} minutes.\")\n",
    "print(f\"The friend with the lowest total workout minutes is: {lowest_total[0].replace('_total', '')} with {lowest_total[1]} minutes.\")\n",
    "\n",
    "\n"
   ],
   "id": "initial_id",
   "outputs": [
    {
     "name": "stdout",
     "output_type": "stream",
     "text": [
      "Great job staying active, Jamie!\n",
      "Yoga and running minutes for all friends is: [[30, 45], [60, 30], [40, 20]]\n",
      "Weightlifting minutes for last 2 friends is: [45, 15]\n",
      "Friend GHGH not found in records.\n",
      "The friend with the highest total workout minutes is: Jamie with 135 minutes.\n",
      "The friend with the lowest total workout minutes is: Taylor with 75 minutes.\n"
     ]
    }
   ],
   "execution_count": 43
  }
 ],
 "metadata": {
  "kernelspec": {
   "display_name": "Python 3",
   "language": "python",
   "name": "python3"
  },
  "language_info": {
   "codemirror_mode": {
    "name": "ipython",
    "version": 2
   },
   "file_extension": ".py",
   "mimetype": "text/x-python",
   "name": "python",
   "nbconvert_exporter": "python",
   "pygments_lexer": "ipython2",
   "version": "2.7.6"
  }
 },
 "nbformat": 4,
 "nbformat_minor": 5
}
